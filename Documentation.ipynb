{
 "cells": [
  {
   "cell_type": "markdown",
   "metadata": {},
   "source": [
    "# Getting Started"
   ]
  },
  {
   "cell_type": "markdown",
   "metadata": {},
   "source": [
    "#### Note, this package uses f-strings and is only compatible with python versions 3.6 +"
   ]
  },
  {
   "cell_type": "markdown",
   "metadata": {},
   "source": [
    "As usual, you will be adding a region in your interface configurations file."
   ]
  },
  {
   "cell_type": "code",
   "execution_count": null,
   "metadata": {},
   "outputs": [],
   "source": [
    "[app_rest]\n",
    "username = your_username\n",
    "password = your_password\n",
    "endpoint = https://rest.americanphysician.partners\n",
    "log_location = # currently not part of the config, so leave this one blank for now"
   ]
  },
  {
   "cell_type": "markdown",
   "metadata": {},
   "source": [
    "Now, you want to install the application"
   ]
  },
  {
   "cell_type": "raw",
   "metadata": {},
   "source": [
    "pip install apprest_interface"
   ]
  },
  {
   "cell_type": "markdown",
   "metadata": {},
   "source": [
    "If your configurations are correct, you should be able to initialize a connection and begin querying with no problems. "
   ]
  },
  {
   "cell_type": "code",
   "execution_count": 1,
   "metadata": {},
   "outputs": [],
   "source": [
    "import os, sys\n",
    "sys.path.insert(0, '/home/jp/Projects/apprest_api')\n",
    "os.environ[\"INTERFACE_CONF_FILE\"] = '/home/jp/interface_secrets.conf' # where to look for your configurations\n",
    "import apprest_interface as api\n",
    "rest = api.APPRestConnection()"
   ]
  },
  {
   "cell_type": "markdown",
   "metadata": {},
   "source": [
    "# Entities"
   ]
  },
  {
   "cell_type": "markdown",
   "metadata": {},
   "source": [
    "Visit https://rest.americanphysician.partners/ to see what entities are available."
   ]
  },
  {
   "cell_type": "markdown",
   "metadata": {},
   "source": [
    "# Methods"
   ]
  },
  {
   "cell_type": "markdown",
   "metadata": {},
   "source": [
    "### `entity_info` tells you what fields are available on a given entity. "
   ]
  },
  {
   "cell_type": "code",
   "execution_count": 10,
   "metadata": {},
   "outputs": [
    {
     "data": {
      "text/plain": [
       "{'fields': ['id',\n",
       "  'app_name',\n",
       "  'hospital_name',\n",
       "  'paycom_name',\n",
       "  'billing_name',\n",
       "  'billing_client_identifier',\n",
       "  'billing_facility_identifier',\n",
       "  'region_id',\n",
       "  'state',\n",
       "  'region_name',\n",
       "  'tangier_name',\n",
       "  'tangier_mid',\n",
       "  'tangier_scribe',\n",
       "  'tangier_code',\n",
       "  'tangier_mid_code',\n",
       "  'tangier_scribe_code'],\n",
       " 'related_fields': ['reportedshift']}"
      ]
     },
     "execution_count": 10,
     "metadata": {},
     "output_type": "execute_result"
    }
   ],
   "source": [
    "rest.entity_info('sites')"
   ]
  },
  {
   "cell_type": "markdown",
   "metadata": {},
   "source": [
    "### `all` gives a paginated result set of all records for a given entity. "
   ]
  },
  {
   "cell_type": "code",
   "execution_count": 12,
   "metadata": {},
   "outputs": [],
   "source": [
    "rest.all('sites')"
   ]
  },
  {
   "cell_type": "markdown",
   "metadata": {},
   "source": [
    "### `de_paginate` gives a de-paginated  result set of any query."
   ]
  },
  {
   "cell_type": "code",
   "execution_count": 15,
   "metadata": {},
   "outputs": [],
   "source": [
    "rest.de_paginate(rest.all('sites'))"
   ]
  },
  {
   "cell_type": "markdown",
   "metadata": {},
   "source": [
    "### `search` allows you to search on numerous criteria, though the available criteria will not be enumerated here. Just try it out."
   ]
  },
  {
   "cell_type": "code",
   "execution_count": 27,
   "metadata": {},
   "outputs": [
    {
     "data": {
      "text/plain": [
       "2"
      ]
     },
     "execution_count": 27,
     "metadata": {},
     "output_type": "execute_result"
    }
   ],
   "source": [
    "rest.search('sites', 'OH')['count']"
   ]
  },
  {
   "cell_type": "markdown",
   "metadata": {},
   "source": [
    "### `query` allows you to query on numerous fields."
   ]
  },
  {
   "cell_type": "code",
   "execution_count": 28,
   "metadata": {},
   "outputs": [
    {
     "data": {
      "text/plain": [
       "1"
      ]
     },
     "execution_count": 28,
     "metadata": {},
     "output_type": "execute_result"
    }
   ],
   "source": [
    "len(rest.de_paginate(rest.query('sites', state='OH')))"
   ]
  },
  {
   "cell_type": "code",
   "execution_count": 33,
   "metadata": {},
   "outputs": [
    {
     "data": {
      "text/plain": [
       "{'app_name': 'Maryville TN ED',\n",
       " 'billing_name': 'Blount Memorial Hospital',\n",
       " 'hospital_name': 'Blount Memorial Hospital',\n",
       " 'region_name': 'Eastern Region',\n",
       " 'state': 'TN',\n",
       " 'tangier_code': 'BMH-MD',\n",
       " 'tangier_mid': 'Blount Memorial Hospital-APP',\n",
       " 'tangier_mid_code': 'BMH-APP',\n",
       " 'tangier_name': 'Blount Memorial Hospital-MD',\n",
       " 'tangier_scribe': '',\n",
       " 'tangier_scribe_code': '',\n",
       " 'url': 'https://rest.americanphysician.partners/sites/300/'}"
      ]
     },
     "execution_count": 33,
     "metadata": {},
     "output_type": "execute_result"
    }
   ],
   "source": [
    "rest.de_paginate(rest.query('sites', state__contains='N'))[0]"
   ]
  },
  {
   "cell_type": "code",
   "execution_count": 37,
   "metadata": {},
   "outputs": [
    {
     "data": {
      "text/plain": [
       "[]"
      ]
     },
     "execution_count": 37,
     "metadata": {},
     "output_type": "execute_result"
    }
   ],
   "source": [
    "rest.de_paginate(rest.query('sites', state__gt='Z')) # no results"
   ]
  },
  {
   "cell_type": "code",
   "execution_count": 38,
   "metadata": {},
   "outputs": [
    {
     "data": {
      "text/plain": [
       "{'app_name': 'Maryville TN ED',\n",
       " 'billing_name': 'Blount Memorial Hospital',\n",
       " 'hospital_name': 'Blount Memorial Hospital',\n",
       " 'region_name': 'Eastern Region',\n",
       " 'state': 'TN',\n",
       " 'tangier_code': 'BMH-MD',\n",
       " 'tangier_mid': 'Blount Memorial Hospital-APP',\n",
       " 'tangier_mid_code': 'BMH-APP',\n",
       " 'tangier_name': 'Blount Memorial Hospital-MD',\n",
       " 'tangier_scribe': '',\n",
       " 'tangier_scribe_code': '',\n",
       " 'url': 'https://rest.americanphysician.partners/sites/300/'}"
      ]
     },
     "execution_count": 38,
     "metadata": {},
     "output_type": "execute_result"
    }
   ],
   "source": [
    "rest.query('sites', url='https://rest.americanphysician.partners/sites/300/')"
   ]
  },
  {
   "cell_type": "markdown",
   "metadata": {},
   "source": [
    "### `add` allows you to add a record."
   ]
  },
  {
   "cell_type": "code",
   "execution_count": 12,
   "metadata": {},
   "outputs": [
    {
     "data": {
      "text/plain": [
       "{'app_name': 'api test name',\n",
       " 'billing_name': None,\n",
       " 'hospital_name': None,\n",
       " 'region_name': None,\n",
       " 'state': None,\n",
       " 'tangier_code': None,\n",
       " 'tangier_mid': None,\n",
       " 'tangier_mid_code': None,\n",
       " 'tangier_name': None,\n",
       " 'tangier_scribe': None,\n",
       " 'tangier_scribe_code': None,\n",
       " 'url': 'https://rest.americanphysician.partners/sites/416/'}"
      ]
     },
     "execution_count": 12,
     "metadata": {},
     "output_type": "execute_result"
    }
   ],
   "source": [
    "new_record = rest.add('site', app_name='api test name')\n",
    "new_record"
   ]
  },
  {
   "cell_type": "code",
   "execution_count": 13,
   "metadata": {},
   "outputs": [
    {
     "name": "stdout",
     "output_type": "stream",
     "text": [
      "https://rest.americanphysician.partners/sites/416/\n",
      "416\n"
     ]
    }
   ],
   "source": [
    "import re\n",
    "pattern = r\"\"\"https:\\/\\/rest\\.americanphysician\\.partners\\/[a-zA-Z]*\\/(?P<entity_id>\\w*)\\/\"\"\"\n",
    "regex = re.compile(pattern)\n",
    "new_url = new_record['url']\n",
    "print(new_url)\n",
    "new_entity_id = regex.search(new_url)['entity_id']\n",
    "print(new_entity_id) # using regex to capture the id"
   ]
  },
  {
   "cell_type": "markdown",
   "metadata": {},
   "source": [
    "### `edit` allows you to edit a record."
   ]
  },
  {
   "cell_type": "code",
   "execution_count": 14,
   "metadata": {},
   "outputs": [
    {
     "data": {
      "text/plain": [
       "{'app_name': 'api test name',\n",
       " 'billing_name': 'api test billing name',\n",
       " 'hospital_name': None,\n",
       " 'region_name': None,\n",
       " 'state': None,\n",
       " 'tangier_code': None,\n",
       " 'tangier_mid': None,\n",
       " 'tangier_mid_code': None,\n",
       " 'tangier_name': None,\n",
       " 'tangier_scribe': None,\n",
       " 'tangier_scribe_code': None,\n",
       " 'url': 'https://rest.americanphysician.partners/sites/416/'}"
      ]
     },
     "execution_count": 14,
     "metadata": {},
     "output_type": "execute_result"
    }
   ],
   "source": [
    "rest.edit('site', entity_id=new_entity_id, billing_name='api test billing name')"
   ]
  },
  {
   "cell_type": "code",
   "execution_count": 15,
   "metadata": {},
   "outputs": [
    {
     "data": {
      "text/plain": [
       "{'app_name': 'api test name',\n",
       " 'billing_name': 'api test billing name',\n",
       " 'hospital_name': None,\n",
       " 'region_name': None,\n",
       " 'state': 'TN',\n",
       " 'tangier_code': None,\n",
       " 'tangier_mid': None,\n",
       " 'tangier_mid_code': None,\n",
       " 'tangier_name': None,\n",
       " 'tangier_scribe': None,\n",
       " 'tangier_scribe_code': None,\n",
       " 'url': 'https://rest.americanphysician.partners/sites/416/'}"
      ]
     },
     "execution_count": 15,
     "metadata": {},
     "output_type": "execute_result"
    }
   ],
   "source": [
    "rest.edit('site', url=new_url, state='TN')"
   ]
  },
  {
   "cell_type": "markdown",
   "metadata": {},
   "source": [
    "### `delete` allows you to delete a record."
   ]
  },
  {
   "cell_type": "code",
   "execution_count": 6,
   "metadata": {},
   "outputs": [
    {
     "name": "stdout",
     "output_type": "stream",
     "text": [
      "{'Success 204': 'Record deleted successfully.'}\n"
     ]
    }
   ],
   "source": [
    "to_delete = rest.de_paginate(rest.query('site', app_name='api test name'))\n",
    "for site in to_delete:\n",
    "    print(rest.delete('site', url=site['url']))  # also works via entity_id"
   ]
  },
  {
   "cell_type": "markdown",
   "metadata": {},
   "source": [
    "### `get_or_error` is a helper method that wraps `query` to raise an error when any number of results other than 1 is returned."
   ]
  },
  {
   "cell_type": "code",
   "execution_count": 17,
   "metadata": {},
   "outputs": [
    {
     "data": {
      "text/plain": [
       "{'app_name': 'Lancaster SC HM',\n",
       " 'billing_name': '',\n",
       " 'hospital_name': 'Springs Memorial Hospital',\n",
       " 'region_name': '',\n",
       " 'state': '',\n",
       " 'tangier_code': '',\n",
       " 'tangier_mid': '',\n",
       " 'tangier_mid_code': '',\n",
       " 'tangier_name': '',\n",
       " 'tangier_scribe': '',\n",
       " 'tangier_scribe_code': '',\n",
       " 'url': 'https://rest.americanphysician.partners/sites/384/'}"
      ]
     },
     "execution_count": 17,
     "metadata": {},
     "output_type": "execute_result"
    }
   ],
   "source": [
    "test_url = rest.de_paginate(rest.all('sites'))[-1]['url']\n",
    "rest.get_or_error('site', url=test_url)"
   ]
  },
  {
   "cell_type": "markdown",
   "metadata": {},
   "source": [
    "This potentially works with anything that works with query."
   ]
  },
  {
   "cell_type": "code",
   "execution_count": 18,
   "metadata": {},
   "outputs": [
    {
     "ename": "APICallError",
     "evalue": "4 records match (site={\"state\": \"TN\"}). Exactly 1 required for get request.",
     "output_type": "error",
     "traceback": [
      "\u001b[0;31m---------------------------------------------------------------------------\u001b[0m",
      "\u001b[0;31mAPICallError\u001b[0m                              Traceback (most recent call last)",
      "\u001b[0;32m<ipython-input-18-434147a7becb>\u001b[0m in \u001b[0;36m<module>\u001b[0;34m()\u001b[0m\n\u001b[0;32m----> 1\u001b[0;31m \u001b[0mrest\u001b[0m\u001b[0;34m.\u001b[0m\u001b[0mget_or_error\u001b[0m\u001b[0;34m(\u001b[0m\u001b[0;34m'site'\u001b[0m\u001b[0;34m,\u001b[0m \u001b[0mstate\u001b[0m\u001b[0;34m=\u001b[0m\u001b[0;34m'TN'\u001b[0m\u001b[0;34m)\u001b[0m\u001b[0;34m\u001b[0m\u001b[0m\n\u001b[0m",
      "\u001b[0;32m~/Projects/apprest_interface/apprest_interface/api.py\u001b[0m in \u001b[0;36mget_or_error\u001b[0;34m(self, entity, url, **kwargs)\u001b[0m\n\u001b[1;32m    208\u001b[0m             \u001b[0mquery_summary\u001b[0m \u001b[0;34m=\u001b[0m \u001b[0;34m'\\n'\u001b[0m\u001b[0;34m.\u001b[0m\u001b[0mjoin\u001b[0m\u001b[0;34m(\u001b[0m\u001b[0;34m[\u001b[0m\u001b[0;34mf'\"{key}\": \"{value}\"'\u001b[0m \u001b[0;32mfor\u001b[0m \u001b[0mkey\u001b[0m\u001b[0;34m,\u001b[0m \u001b[0mvalue\u001b[0m \u001b[0;32min\u001b[0m \u001b[0mkwargs\u001b[0m\u001b[0;34m.\u001b[0m\u001b[0mitems\u001b[0m\u001b[0;34m(\u001b[0m\u001b[0;34m)\u001b[0m\u001b[0;34m]\u001b[0m\u001b[0;34m)\u001b[0m\u001b[0;34m\u001b[0m\u001b[0m\n\u001b[1;32m    209\u001b[0m             \u001b[0mquery_summary\u001b[0m \u001b[0;34m=\u001b[0m \u001b[0;34mf'({entity}={{{query_summary}}})'\u001b[0m\u001b[0;34m\u001b[0m\u001b[0m\n\u001b[0;32m--> 210\u001b[0;31m             \u001b[0;32mraise\u001b[0m \u001b[0mAPICallError\u001b[0m\u001b[0;34m(\u001b[0m\u001b[0;34mf'{len(response)} records match {query_summary}. Exactly 1 required for get request.'\u001b[0m\u001b[0;34m)\u001b[0m\u001b[0;34m\u001b[0m\u001b[0m\n\u001b[0m\u001b[1;32m    211\u001b[0m         \u001b[0;32melif\u001b[0m \u001b[0;34m'count'\u001b[0m \u001b[0;32min\u001b[0m \u001b[0mresponse\u001b[0m\u001b[0;34m.\u001b[0m\u001b[0mkeys\u001b[0m\u001b[0;34m(\u001b[0m\u001b[0;34m)\u001b[0m \u001b[0;32mand\u001b[0m \u001b[0mresponse\u001b[0m\u001b[0;34m[\u001b[0m\u001b[0;34m'count'\u001b[0m\u001b[0;34m]\u001b[0m \u001b[0;34m==\u001b[0m \u001b[0;36m1\u001b[0m\u001b[0;34m:\u001b[0m\u001b[0;34m\u001b[0m\u001b[0m\n\u001b[1;32m    212\u001b[0m             \u001b[0;32mreturn\u001b[0m \u001b[0mresponse\u001b[0m\u001b[0;34m[\u001b[0m\u001b[0;34m'results'\u001b[0m\u001b[0;34m]\u001b[0m\u001b[0;34m\u001b[0m\u001b[0m\n",
      "\u001b[0;31mAPICallError\u001b[0m: 4 records match (site={\"state\": \"TN\"}). Exactly 1 required for get request."
     ]
    }
   ],
   "source": [
    "rest.get_or_error('site', state='TN') # intentionally fail to return because there are too many matchinf records"
   ]
  },
  {
   "cell_type": "markdown",
   "metadata": {},
   "source": [
    "### `get_or_create` is a helper method that wraps `query` which either creates a new entry or gets an existing one  with the exact specified kwargs. (so be careful)"
   ]
  },
  {
   "cell_type": "code",
   "execution_count": 5,
   "metadata": {},
   "outputs": [
    {
     "name": "stdout",
     "output_type": "stream",
     "text": [
      "created {'url': 'https://rest.americanphysician.partners/sites/418/', 'app_name': 'api test name', 'hospital_name': None, 'billing_name': None, 'region_name': None, 'state': None, 'tangier_name': None, 'tangier_mid': None, 'tangier_scribe': None, 'tangier_code': None, 'tangier_mid_code': None, 'tangier_scribe_code': None}\n",
      "already existed {'url': 'https://rest.americanphysician.partners/sites/418/', 'app_name': 'api test name', 'hospital_name': None, 'billing_name': None, 'region_name': None, 'state': None, 'tangier_name': None, 'tangier_mid': None, 'tangier_scribe': None, 'tangier_code': None, 'tangier_mid_code': None, 'tangier_scribe_code': None}\n"
     ]
    }
   ],
   "source": [
    "record, created = rest.get_or_create('site', app_name='api test name')\n",
    "if created:\n",
    "    print('created', record)\n",
    "else:\n",
    "    print('already existed', record)\n",
    "record, created = rest.get_or_create('site', app_name='api test name')\n",
    "if created:\n",
    "    print('created', record)\n",
    "else:\n",
    "    print('already existed', record)   "
   ]
  },
  {
   "cell_type": "markdown",
   "metadata": {},
   "source": [
    "### `add_file` allows you to upload a file."
   ]
  },
  {
   "cell_type": "code",
   "execution_count": 3,
   "metadata": {},
   "outputs": [
    {
     "data": {
      "text/plain": [
       "{'created': '2017-12-15T14:17:18',\n",
       " 'file': 'https://zappa-app-rest.s3.amazonaws.com/content/uploaded_files/Documentation.ipynb',\n",
       " 'name': 'documentation notebook',\n",
       " 'updated': '2017-12-15T14:17:18',\n",
       " 'url': 'https://rest.americanphysician.partners/files/1/'}"
      ]
     },
     "execution_count": 3,
     "metadata": {},
     "output_type": "execute_result"
    }
   ],
   "source": [
    "rest.add_file(file='/home/jp/Projects/apprest_interface/Documentation.ipynb', name=\"documentation notebook\")"
   ]
  }
 ],
 "metadata": {
  "kernelspec": {
   "display_name": "Python (apprest_interface)",
   "language": "python",
   "name": "apprest_interface"
  },
  "language_info": {
   "codemirror_mode": {
    "name": "ipython",
    "version": 3
   },
   "file_extension": ".py",
   "mimetype": "text/x-python",
   "name": "python",
   "nbconvert_exporter": "python",
   "pygments_lexer": "ipython3",
   "version": "3.6.3"
  }
 },
 "nbformat": 4,
 "nbformat_minor": 2
}
